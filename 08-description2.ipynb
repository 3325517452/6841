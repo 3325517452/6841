{
 "cells": [
  {
   "cell_type": "code",
   "execution_count": null,
   "metadata": {},
   "outputs": [],
   "source": [
    "import pandas as pd\n",
    "from pyreadstat import pyreadstat\n",
    "df, metadata = pyreadstat.read_sav(r'国家认同数据清理后.sav',\n",
    "apply_value_formats=True,formats_as_ordered_catagory=True)\n",
    "result = df['会打多少分']\n",
    "\n"
   ]
  },
  {
   "cell_type": "code",
   "execution_count": null,
   "metadata": {},
   "outputs": [],
   "source": [
    "reshult = df['会打多少分'].value_counts(sort=False,normolize=True)\n",
    "描述统计表['累计比例']\n"
   ]
  },
  {
   "cell_type": "code",
   "execution_count": null,
   "metadata": {},
   "outputs": [],
   "source": [
    "df_result = pd.DataFrame(result)"
   ]
  },
  {
   "cell_type": "code",
   "execution_count": null,
   "metadata": {},
   "outputs": [],
   "source": [
    "def 有序变量描述统计函数(表名,变量名):\n",
    "    result = 表名[变量名].value_counts(sort=False)\n",
    "    描述统计表 = pd.DataFrame(result)\n",
    "    描述统计表['比例'] = 描述统计表['count']/描述统计表['count'].sum()\n",
    "    描述统计表['累计比例'] = 描述统计表['比例'].cumsum()\n",
    "    return 描述统计表"
   ]
  },
  {
   "cell_type": "code",
   "execution_count": null,
   "metadata": {},
   "outputs": [],
   "source": [
    "有序变量描述统计函数(df, '会打多少分')"
   ]
  }
 ],
 "metadata": {
  "kernelspec": {
   "display_name": "Python 3",
   "language": "python",
   "name": "python3"
  },
  "language_info": {
   "codemirror_mode": {
    "name": "ipython",
    "version": 3
   },
   "file_extension": ".py",
   "mimetype": "text/x-python",
   "name": "python",
   "nbconvert_exporter": "python",
   "pygments_lexer": "ipython3",
   "version": "3.8.10"
  }
 },
 "nbformat": 4,
 "nbformat_minor": 2
}
